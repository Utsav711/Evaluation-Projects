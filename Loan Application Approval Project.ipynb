{
 "cells": [
  {
   "cell_type": "markdown",
   "id": "ef293898",
   "metadata": {},
   "source": [
    "# Loan Application Approval Project"
   ]
  },
  {
   "cell_type": "markdown",
   "id": "316eca1f",
   "metadata": {},
   "source": [
    "Problem Statement:\n",
    "This dataset includes details of applicants who have applied for loan. The dataset includes details like credit history, loan amount, their income, dependents etc. \n",
    "\n",
    "Independent Variables:\n",
    "\n",
    "- Loan_ID\n",
    "\n",
    "- Gender\n",
    "\n",
    "- Married\n",
    "\n",
    "- Dependents\n",
    "\n",
    "- Education\n",
    "\n",
    "- Self_Employed\n",
    "\n",
    "- ApplicantIncome\n",
    "\n",
    "- CoapplicantIncome\n",
    "\n",
    "- Loan_Amount\n",
    "\n",
    "- Loan_Amount_Term\n",
    "\n",
    "- Credit History\n",
    "\n",
    "- Property_Area\n",
    "\n",
    "Dependent Variable (Target Variable):\n",
    "\n",
    "- Loan_Status - CLASSIFICATION PROBLEM\n",
    "\n",
    "You have to build a model that can predict whether the loan of the applicant will be approved or not on the basis of the details provided in the dataset. "
   ]
  },
  {
   "cell_type": "code",
   "execution_count": 5,
   "id": "d3716549",
   "metadata": {},
   "outputs": [],
   "source": [
    "import pandas as pd\n",
    "import numpy as np\n",
    "\n",
    "import seaborn as sns\n",
    "import matplotlib.pyplot as plt\n",
    "%matplotlib inline\n",
    "\n",
    "from sklearn import metrics\n",
    "from sklearn.model_selection import cross_val_score\n",
    "from sklearn.metrics import accuracy_score, confusion_matrix, classification_report\n",
    "from sklearn.metrics import roc_curve,auc\n",
    "from sklearn.metrics import roc_auc_score\n",
    "from sklearn.model_selection import train_test_split, cross_val_score, RandomizedSearchCV\n",
    "from sklearn.metrics import recall_score\n",
    "\n",
    "from sklearn.model_selection import train_test_split\n",
    "from sklearn import linear_model\n",
    "from sklearn.linear_model import LogisticRegression\n",
    "from sklearn.tree import DecisionTreeClassifier\n",
    "from xgboost import XGBClassifier\n",
    "from sklearn.ensemble import RandomForestClassifier\n",
    "from scipy.stats import zscore\n",
    "from sklearn.preprocessing import LabelEncoder\n",
    "from sklearn.preprocessing import OrdinalEncoder, StandardScaler, MinMaxScaler, power_transform\n",
    "from sklearn.model_selection import GridSearchCV\n",
    "\n",
    "from imblearn import under_sampling, over_sampling\n",
    "from imblearn.over_sampling import SMOTE\n",
    "\n",
    "import warnings\n",
    "warnings.filterwarnings(\"ignore\")\n",
    "import pickle\n"
   ]
  },
  {
   "cell_type": "code",
   "execution_count": 6,
   "id": "a299d8ce",
   "metadata": {},
   "outputs": [],
   "source": [
    "df=pd.read_csv(\"loan_prediction.csv\")"
   ]
  },
  {
   "cell_type": "code",
   "execution_count": 7,
   "id": "42d4e355",
   "metadata": {},
   "outputs": [
    {
     "data": {
      "text/html": [
       "<div>\n",
       "<style scoped>\n",
       "    .dataframe tbody tr th:only-of-type {\n",
       "        vertical-align: middle;\n",
       "    }\n",
       "\n",
       "    .dataframe tbody tr th {\n",
       "        vertical-align: top;\n",
       "    }\n",
       "\n",
       "    .dataframe thead th {\n",
       "        text-align: right;\n",
       "    }\n",
       "</style>\n",
       "<table border=\"1\" class=\"dataframe\">\n",
       "  <thead>\n",
       "    <tr style=\"text-align: right;\">\n",
       "      <th></th>\n",
       "      <th>Loan_ID</th>\n",
       "      <th>Gender</th>\n",
       "      <th>Married</th>\n",
       "      <th>Dependents</th>\n",
       "      <th>Education</th>\n",
       "      <th>Self_Employed</th>\n",
       "      <th>ApplicantIncome</th>\n",
       "      <th>CoapplicantIncome</th>\n",
       "      <th>LoanAmount</th>\n",
       "      <th>Loan_Amount_Term</th>\n",
       "      <th>Credit_History</th>\n",
       "      <th>Property_Area</th>\n",
       "      <th>Loan_Status</th>\n",
       "    </tr>\n",
       "  </thead>\n",
       "  <tbody>\n",
       "    <tr>\n",
       "      <th>0</th>\n",
       "      <td>LP001002</td>\n",
       "      <td>Male</td>\n",
       "      <td>No</td>\n",
       "      <td>0</td>\n",
       "      <td>Graduate</td>\n",
       "      <td>No</td>\n",
       "      <td>5849</td>\n",
       "      <td>0.0</td>\n",
       "      <td>NaN</td>\n",
       "      <td>360.0</td>\n",
       "      <td>1.0</td>\n",
       "      <td>Urban</td>\n",
       "      <td>Y</td>\n",
       "    </tr>\n",
       "    <tr>\n",
       "      <th>1</th>\n",
       "      <td>LP001003</td>\n",
       "      <td>Male</td>\n",
       "      <td>Yes</td>\n",
       "      <td>1</td>\n",
       "      <td>Graduate</td>\n",
       "      <td>No</td>\n",
       "      <td>4583</td>\n",
       "      <td>1508.0</td>\n",
       "      <td>128.0</td>\n",
       "      <td>360.0</td>\n",
       "      <td>1.0</td>\n",
       "      <td>Rural</td>\n",
       "      <td>N</td>\n",
       "    </tr>\n",
       "    <tr>\n",
       "      <th>2</th>\n",
       "      <td>LP001005</td>\n",
       "      <td>Male</td>\n",
       "      <td>Yes</td>\n",
       "      <td>0</td>\n",
       "      <td>Graduate</td>\n",
       "      <td>Yes</td>\n",
       "      <td>3000</td>\n",
       "      <td>0.0</td>\n",
       "      <td>66.0</td>\n",
       "      <td>360.0</td>\n",
       "      <td>1.0</td>\n",
       "      <td>Urban</td>\n",
       "      <td>Y</td>\n",
       "    </tr>\n",
       "    <tr>\n",
       "      <th>3</th>\n",
       "      <td>LP001006</td>\n",
       "      <td>Male</td>\n",
       "      <td>Yes</td>\n",
       "      <td>0</td>\n",
       "      <td>Not Graduate</td>\n",
       "      <td>No</td>\n",
       "      <td>2583</td>\n",
       "      <td>2358.0</td>\n",
       "      <td>120.0</td>\n",
       "      <td>360.0</td>\n",
       "      <td>1.0</td>\n",
       "      <td>Urban</td>\n",
       "      <td>Y</td>\n",
       "    </tr>\n",
       "    <tr>\n",
       "      <th>4</th>\n",
       "      <td>LP001008</td>\n",
       "      <td>Male</td>\n",
       "      <td>No</td>\n",
       "      <td>0</td>\n",
       "      <td>Graduate</td>\n",
       "      <td>No</td>\n",
       "      <td>6000</td>\n",
       "      <td>0.0</td>\n",
       "      <td>141.0</td>\n",
       "      <td>360.0</td>\n",
       "      <td>1.0</td>\n",
       "      <td>Urban</td>\n",
       "      <td>Y</td>\n",
       "    </tr>\n",
       "  </tbody>\n",
       "</table>\n",
       "</div>"
      ],
      "text/plain": [
       "    Loan_ID Gender Married Dependents     Education Self_Employed  \\\n",
       "0  LP001002   Male      No          0      Graduate            No   \n",
       "1  LP001003   Male     Yes          1      Graduate            No   \n",
       "2  LP001005   Male     Yes          0      Graduate           Yes   \n",
       "3  LP001006   Male     Yes          0  Not Graduate            No   \n",
       "4  LP001008   Male      No          0      Graduate            No   \n",
       "\n",
       "   ApplicantIncome  CoapplicantIncome  LoanAmount  Loan_Amount_Term  \\\n",
       "0             5849                0.0         NaN             360.0   \n",
       "1             4583             1508.0       128.0             360.0   \n",
       "2             3000                0.0        66.0             360.0   \n",
       "3             2583             2358.0       120.0             360.0   \n",
       "4             6000                0.0       141.0             360.0   \n",
       "\n",
       "   Credit_History Property_Area Loan_Status  \n",
       "0             1.0         Urban           Y  \n",
       "1             1.0         Rural           N  \n",
       "2             1.0         Urban           Y  \n",
       "3             1.0         Urban           Y  \n",
       "4             1.0         Urban           Y  "
      ]
     },
     "execution_count": 7,
     "metadata": {},
     "output_type": "execute_result"
    }
   ],
   "source": [
    "df.head()"
   ]
  },
  {
   "cell_type": "code",
   "execution_count": 8,
   "id": "8d16c2c0",
   "metadata": {},
   "outputs": [
    {
     "data": {
      "text/plain": [
       "Index(['Loan_ID', 'Gender', 'Married', 'Dependents', 'Education',\n",
       "       'Self_Employed', 'ApplicantIncome', 'CoapplicantIncome', 'LoanAmount',\n",
       "       'Loan_Amount_Term', 'Credit_History', 'Property_Area', 'Loan_Status'],\n",
       "      dtype='object')"
      ]
     },
     "execution_count": 8,
     "metadata": {},
     "output_type": "execute_result"
    }
   ],
   "source": [
    "df.columns"
   ]
  },
  {
   "cell_type": "code",
   "execution_count": 9,
   "id": "b1c9e606",
   "metadata": {},
   "outputs": [
    {
     "data": {
      "text/plain": [
       "(614, 13)"
      ]
     },
     "execution_count": 9,
     "metadata": {},
     "output_type": "execute_result"
    }
   ],
   "source": [
    "df.shape"
   ]
  },
  {
   "cell_type": "code",
   "execution_count": 10,
   "id": "22f1407b",
   "metadata": {},
   "outputs": [
    {
     "data": {
      "text/html": [
       "<div>\n",
       "<style scoped>\n",
       "    .dataframe tbody tr th:only-of-type {\n",
       "        vertical-align: middle;\n",
       "    }\n",
       "\n",
       "    .dataframe tbody tr th {\n",
       "        vertical-align: top;\n",
       "    }\n",
       "\n",
       "    .dataframe thead th {\n",
       "        text-align: right;\n",
       "    }\n",
       "</style>\n",
       "<table border=\"1\" class=\"dataframe\">\n",
       "  <thead>\n",
       "    <tr style=\"text-align: right;\">\n",
       "      <th></th>\n",
       "      <th>Loan_ID</th>\n",
       "      <th>Gender</th>\n",
       "      <th>Married</th>\n",
       "      <th>Dependents</th>\n",
       "      <th>Education</th>\n",
       "      <th>Self_Employed</th>\n",
       "      <th>ApplicantIncome</th>\n",
       "      <th>CoapplicantIncome</th>\n",
       "      <th>LoanAmount</th>\n",
       "      <th>Loan_Amount_Term</th>\n",
       "      <th>Credit_History</th>\n",
       "      <th>Property_Area</th>\n",
       "      <th>Loan_Status</th>\n",
       "    </tr>\n",
       "  </thead>\n",
       "  <tbody>\n",
       "    <tr>\n",
       "      <th>count</th>\n",
       "      <td>614</td>\n",
       "      <td>601</td>\n",
       "      <td>611</td>\n",
       "      <td>599</td>\n",
       "      <td>614</td>\n",
       "      <td>582</td>\n",
       "      <td>614.000000</td>\n",
       "      <td>614.000000</td>\n",
       "      <td>592.000000</td>\n",
       "      <td>600.00000</td>\n",
       "      <td>564.000000</td>\n",
       "      <td>614</td>\n",
       "      <td>614</td>\n",
       "    </tr>\n",
       "    <tr>\n",
       "      <th>unique</th>\n",
       "      <td>614</td>\n",
       "      <td>2</td>\n",
       "      <td>2</td>\n",
       "      <td>4</td>\n",
       "      <td>2</td>\n",
       "      <td>2</td>\n",
       "      <td>NaN</td>\n",
       "      <td>NaN</td>\n",
       "      <td>NaN</td>\n",
       "      <td>NaN</td>\n",
       "      <td>NaN</td>\n",
       "      <td>3</td>\n",
       "      <td>2</td>\n",
       "    </tr>\n",
       "    <tr>\n",
       "      <th>top</th>\n",
       "      <td>LP001469</td>\n",
       "      <td>Male</td>\n",
       "      <td>Yes</td>\n",
       "      <td>0</td>\n",
       "      <td>Graduate</td>\n",
       "      <td>No</td>\n",
       "      <td>NaN</td>\n",
       "      <td>NaN</td>\n",
       "      <td>NaN</td>\n",
       "      <td>NaN</td>\n",
       "      <td>NaN</td>\n",
       "      <td>Semiurban</td>\n",
       "      <td>Y</td>\n",
       "    </tr>\n",
       "    <tr>\n",
       "      <th>freq</th>\n",
       "      <td>1</td>\n",
       "      <td>489</td>\n",
       "      <td>398</td>\n",
       "      <td>345</td>\n",
       "      <td>480</td>\n",
       "      <td>500</td>\n",
       "      <td>NaN</td>\n",
       "      <td>NaN</td>\n",
       "      <td>NaN</td>\n",
       "      <td>NaN</td>\n",
       "      <td>NaN</td>\n",
       "      <td>233</td>\n",
       "      <td>422</td>\n",
       "    </tr>\n",
       "    <tr>\n",
       "      <th>mean</th>\n",
       "      <td>NaN</td>\n",
       "      <td>NaN</td>\n",
       "      <td>NaN</td>\n",
       "      <td>NaN</td>\n",
       "      <td>NaN</td>\n",
       "      <td>NaN</td>\n",
       "      <td>5403.459283</td>\n",
       "      <td>1621.245798</td>\n",
       "      <td>146.412162</td>\n",
       "      <td>342.00000</td>\n",
       "      <td>0.842199</td>\n",
       "      <td>NaN</td>\n",
       "      <td>NaN</td>\n",
       "    </tr>\n",
       "    <tr>\n",
       "      <th>std</th>\n",
       "      <td>NaN</td>\n",
       "      <td>NaN</td>\n",
       "      <td>NaN</td>\n",
       "      <td>NaN</td>\n",
       "      <td>NaN</td>\n",
       "      <td>NaN</td>\n",
       "      <td>6109.041673</td>\n",
       "      <td>2926.248369</td>\n",
       "      <td>85.587325</td>\n",
       "      <td>65.12041</td>\n",
       "      <td>0.364878</td>\n",
       "      <td>NaN</td>\n",
       "      <td>NaN</td>\n",
       "    </tr>\n",
       "    <tr>\n",
       "      <th>min</th>\n",
       "      <td>NaN</td>\n",
       "      <td>NaN</td>\n",
       "      <td>NaN</td>\n",
       "      <td>NaN</td>\n",
       "      <td>NaN</td>\n",
       "      <td>NaN</td>\n",
       "      <td>150.000000</td>\n",
       "      <td>0.000000</td>\n",
       "      <td>9.000000</td>\n",
       "      <td>12.00000</td>\n",
       "      <td>0.000000</td>\n",
       "      <td>NaN</td>\n",
       "      <td>NaN</td>\n",
       "    </tr>\n",
       "    <tr>\n",
       "      <th>25%</th>\n",
       "      <td>NaN</td>\n",
       "      <td>NaN</td>\n",
       "      <td>NaN</td>\n",
       "      <td>NaN</td>\n",
       "      <td>NaN</td>\n",
       "      <td>NaN</td>\n",
       "      <td>2877.500000</td>\n",
       "      <td>0.000000</td>\n",
       "      <td>100.000000</td>\n",
       "      <td>360.00000</td>\n",
       "      <td>1.000000</td>\n",
       "      <td>NaN</td>\n",
       "      <td>NaN</td>\n",
       "    </tr>\n",
       "    <tr>\n",
       "      <th>50%</th>\n",
       "      <td>NaN</td>\n",
       "      <td>NaN</td>\n",
       "      <td>NaN</td>\n",
       "      <td>NaN</td>\n",
       "      <td>NaN</td>\n",
       "      <td>NaN</td>\n",
       "      <td>3812.500000</td>\n",
       "      <td>1188.500000</td>\n",
       "      <td>128.000000</td>\n",
       "      <td>360.00000</td>\n",
       "      <td>1.000000</td>\n",
       "      <td>NaN</td>\n",
       "      <td>NaN</td>\n",
       "    </tr>\n",
       "    <tr>\n",
       "      <th>75%</th>\n",
       "      <td>NaN</td>\n",
       "      <td>NaN</td>\n",
       "      <td>NaN</td>\n",
       "      <td>NaN</td>\n",
       "      <td>NaN</td>\n",
       "      <td>NaN</td>\n",
       "      <td>5795.000000</td>\n",
       "      <td>2297.250000</td>\n",
       "      <td>168.000000</td>\n",
       "      <td>360.00000</td>\n",
       "      <td>1.000000</td>\n",
       "      <td>NaN</td>\n",
       "      <td>NaN</td>\n",
       "    </tr>\n",
       "    <tr>\n",
       "      <th>max</th>\n",
       "      <td>NaN</td>\n",
       "      <td>NaN</td>\n",
       "      <td>NaN</td>\n",
       "      <td>NaN</td>\n",
       "      <td>NaN</td>\n",
       "      <td>NaN</td>\n",
       "      <td>81000.000000</td>\n",
       "      <td>41667.000000</td>\n",
       "      <td>700.000000</td>\n",
       "      <td>480.00000</td>\n",
       "      <td>1.000000</td>\n",
       "      <td>NaN</td>\n",
       "      <td>NaN</td>\n",
       "    </tr>\n",
       "  </tbody>\n",
       "</table>\n",
       "</div>"
      ],
      "text/plain": [
       "         Loan_ID Gender Married Dependents Education Self_Employed  \\\n",
       "count        614    601     611        599       614           582   \n",
       "unique       614      2       2          4         2             2   \n",
       "top     LP001469   Male     Yes          0  Graduate            No   \n",
       "freq           1    489     398        345       480           500   \n",
       "mean         NaN    NaN     NaN        NaN       NaN           NaN   \n",
       "std          NaN    NaN     NaN        NaN       NaN           NaN   \n",
       "min          NaN    NaN     NaN        NaN       NaN           NaN   \n",
       "25%          NaN    NaN     NaN        NaN       NaN           NaN   \n",
       "50%          NaN    NaN     NaN        NaN       NaN           NaN   \n",
       "75%          NaN    NaN     NaN        NaN       NaN           NaN   \n",
       "max          NaN    NaN     NaN        NaN       NaN           NaN   \n",
       "\n",
       "        ApplicantIncome  CoapplicantIncome  LoanAmount  Loan_Amount_Term  \\\n",
       "count        614.000000         614.000000  592.000000         600.00000   \n",
       "unique              NaN                NaN         NaN               NaN   \n",
       "top                 NaN                NaN         NaN               NaN   \n",
       "freq                NaN                NaN         NaN               NaN   \n",
       "mean        5403.459283        1621.245798  146.412162         342.00000   \n",
       "std         6109.041673        2926.248369   85.587325          65.12041   \n",
       "min          150.000000           0.000000    9.000000          12.00000   \n",
       "25%         2877.500000           0.000000  100.000000         360.00000   \n",
       "50%         3812.500000        1188.500000  128.000000         360.00000   \n",
       "75%         5795.000000        2297.250000  168.000000         360.00000   \n",
       "max        81000.000000       41667.000000  700.000000         480.00000   \n",
       "\n",
       "        Credit_History Property_Area Loan_Status  \n",
       "count       564.000000           614         614  \n",
       "unique             NaN             3           2  \n",
       "top                NaN     Semiurban           Y  \n",
       "freq               NaN           233         422  \n",
       "mean          0.842199           NaN         NaN  \n",
       "std           0.364878           NaN         NaN  \n",
       "min           0.000000           NaN         NaN  \n",
       "25%           1.000000           NaN         NaN  \n",
       "50%           1.000000           NaN         NaN  \n",
       "75%           1.000000           NaN         NaN  \n",
       "max           1.000000           NaN         NaN  "
      ]
     },
     "execution_count": 10,
     "metadata": {},
     "output_type": "execute_result"
    }
   ],
   "source": [
    "df.describe(include=\"all\")"
   ]
  },
  {
   "cell_type": "markdown",
   "id": "bc83efa0",
   "metadata": {},
   "source": [
    "- There are 614 samples with some features having null values.\n",
    "- 5 numerical features & 8 are categorical features\n",
    "- We have a class imbalance in our target variable with 422 counts of \"Yes\" out of 614, indicating that class imbalance technique needs to be used for an efficient model."
   ]
  },
  {
   "cell_type": "code",
   "execution_count": 11,
   "id": "3dc79938",
   "metadata": {},
   "outputs": [
    {
     "name": "stdout",
     "output_type": "stream",
     "text": [
      "Y    422\n",
      "N    192\n",
      "Name: Loan_Status, dtype: int64\n"
     ]
    },
    {
     "data": {
      "image/png": "[encoded data removed]",
      "text/plain": [
       "<Figure size 432x288 with 1 Axes>"
      ]
     },
     "metadata": {
      "needs_background": "light"
     },
     "output_type": "display_data"
    }
   ],
   "source": [
    "print(df[\"Loan_Status\"].value_counts())\n",
    "df[\"Loan_Status\"].hist(grid=True)\n",
    "plt.title(\"Loan Approved\")\n",
    "plt.show()"
   ]
  },
  {
   "cell_type": "code",
   "execution_count": 12,
   "id": "ca73974f",
   "metadata": {},
   "outputs": [
    {
     "name": "stdout",
     "output_type": "stream",
     "text": [
      "<class 'pandas.core.frame.DataFrame'>\n",
      "RangeIndex: 614 entries, 0 to 613\n",
      "Data columns (total 13 columns):\n",
      " #   Column             Non-Null Count  Dtype  \n",
      "---  ------             --------------  -----  \n",
      " 0   Loan_ID            614 non-null    object \n",
      " 1   Gender             601 non-null    object \n",
      " 2   Married            611 non-null    object \n",
      " 3   Dependents         599 non-null    object \n",
      " 4   Education          614 non-null    object \n",
      " 5   Self_Employed      582 non-null    object \n",
      " 6   ApplicantIncome    614 non-null    int64  \n",
      " 7   CoapplicantIncome  614 non-null    float64\n",
      " 8   LoanAmount         592 non-null    float64\n",
      " 9   Loan_Amount_Term   600 non-null    float64\n",
      " 10  Credit_History     564 non-null    float64\n",
      " 11  Property_Area      614 non-null    object \n",
      " 12  Loan_Status        614 non-null    object \n",
      "dtypes: float64(4), int64(1), object(8)\n",
      "memory usage: 62.5+ KB\n"
     ]
    }
   ],
   "source": [
    "df.info()"
   ]
  },
  {
   "cell_type": "code",
   "execution_count": 13,
   "id": "604419bb",
   "metadata": {},
   "outputs": [],
   "source": [
    "cat_df=df.select_dtypes(include=\"object\")\n",
    "num_df=df.select_dtypes(exclude=\"object\")"
   ]
  },
  {
   "cell_type": "code",
   "execution_count": 14,
   "id": "20522add",
   "metadata": {},
   "outputs": [
    {
     "data": {
      "text/plain": [
       "Index(['ApplicantIncome', 'CoapplicantIncome', 'LoanAmount',\n",
       "       'Loan_Amount_Term', 'Credit_History'],\n",
       "      dtype='object')"
      ]
     },
     "execution_count": 14,
     "metadata": {},
     "output_type": "execute_result"
    }
   ],
   "source": [
    "num_df.columns"
   ]
  },
  {
   "cell_type": "code",
   "execution_count": 15,
   "id": "1376f17e",
   "metadata": {},
   "outputs": [
    {
     "data": {
      "text/plain": [
       "Index(['Loan_ID', 'Gender', 'Married', 'Dependents', 'Education',\n",
       "       'Self_Employed', 'Property_Area', 'Loan_Status'],\n",
       "      dtype='object')"
      ]
     },
     "execution_count": 15,
     "metadata": {},
     "output_type": "execute_result"
    }
   ],
   "source": [
    "cat_df.columns"
   ]
  },
  {
   "cell_type": "code",
   "execution_count": 16,
   "id": "5a9f06a7",
   "metadata": {},
   "outputs": [
    {
     "data": {
      "text/plain": [
       "Loan_ID               0\n",
       "Gender               13\n",
       "Married               3\n",
       "Dependents           15\n",
       "Education             0\n",
       "Self_Employed        32\n",
       "ApplicantIncome       0\n",
       "CoapplicantIncome     0\n",
       "LoanAmount           22\n",
       "Loan_Amount_Term     14\n",
       "Credit_History       50\n",
       "Property_Area         0\n",
       "Loan_Status           0\n",
       "dtype: int64"
      ]
     },
     "execution_count": 16,
     "metadata": {},
     "output_type": "execute_result"
    }
   ],
   "source": [
    "df.isnull().sum()"
   ]
  },
  {
   "cell_type": "markdown",
   "id": "4016fe91",
   "metadata": {},
   "source": [
    "We have null values, which we can impute later as they do not comprise of a larger percent of the feature column and imputing earlier can hinder insightful plots which can cause problems."
   ]
  },
  {
   "cell_type": "code",
   "execution_count": 17,
   "id": "a3ab16eb",
   "metadata": {},
   "outputs": [
    {
     "name": "stdout",
     "output_type": "stream",
     "text": [
      "LP001469    1\n",
      "LP001114    1\n",
      "LP002494    1\n",
      "LP001743    1\n",
      "LP001616    1\n",
      "           ..\n",
      "LP001846    1\n",
      "LP001990    1\n",
      "LP002225    1\n",
      "LP001603    1\n",
      "LP001872    1\n",
      "Name: Loan_ID, Length: 614, dtype: int64\n",
      "\n",
      "\n",
      "Male      489\n",
      "Female    112\n",
      "Name: Gender, dtype: int64\n",
      "\n",
      "\n",
      "Yes    398\n",
      "No     213\n",
      "Name: Married, dtype: int64\n",
      "\n",
      "\n",
      "0     345\n",
      "1     102\n",
      "2     101\n",
      "3+     51\n",
      "Name: Dependents, dtype: int64\n",
      "\n",
      "\n",
      "Graduate        480\n",
      "Not Graduate    134\n",
      "Name: Education, dtype: int64\n",
      "\n",
      "\n",
      "No     500\n",
      "Yes     82\n",
      "Name: Self_Employed, dtype: int64\n",
      "\n",
      "\n",
      "Semiurban    233\n",
      "Urban        202\n",
      "Rural        179\n",
      "Name: Property_Area, dtype: int64\n",
      "\n",
      "\n",
      "Y    422\n",
      "N    192\n",
      "Name: Loan_Status, dtype: int64\n",
      "\n",
      "\n"
     ]
    }
   ],
   "source": [
    "for i in cat_df.columns:\n",
    "    print(df[i].value_counts())\n",
    "    print(\"\\n\")"
   ]
  },
  {
   "cell_type": "markdown",
   "id": "a28099c9",
   "metadata": {},
   "source": [
    "So we don't have any quirky unique values like a space or a \"?\" in categorical values. So, we can proceed with EDA."
   ]
  },
  {
   "cell_type": "markdown",
   "id": "2dc348a2",
   "metadata": {},
   "source": [
    "# EDA:"
   ]
  },
  {
   "cell_type": "code",
   "execution_count": 18,
   "id": "958af7ad",
   "metadata": {},
   "outputs": [
    {
     "data": {
      "image/png": "[encoded data removed]",
      "text/plain": [
       "<Figure size 1080x720 with 7 Axes>"
      ]
     },
     "metadata": {
      "needs_background": "light"
     },
     "output_type": "display_data"
    }
   ],
   "source": [
    "plt.figure(figsize=(15,10))\n",
    "x=1\n",
    "for col in cat_df.columns[1:]:\n",
    "    \n",
    "    if x<=8:\n",
    "        plt.subplot(2,4,x)\n",
    "        sns.countplot(data=df, x=col,hue=\"Loan_Status\",palette=\"Spectral\")       \n",
    "        plt.xticks(rotation=45)\n",
    "        x+=1\n",
    "plt.tight_layout()\n",
    "plt.show()"
   ]
  },
  {
   "cell_type": "markdown",
   "id": "b396a20d",
   "metadata": {},
   "source": [
    "Observations:\n",
    "- Men and women are likely to have roughly 50-50 chance at being approved for a loan. Data samples for men is greater than women.\n",
    "- Married People are less likely to be rejected for a loan and have a humongous loan approval chance over unmarried people.\n",
    "- With no dependents, it was extremely likely to be approved for a loan whereas with 2 dependents loan approval chance was higher than with 1 dependent. \n",
    "- Graduate people are more likely to be approved for a loan.\n",
    "- Self-employed people were less likely to be approved for a loan as there is no assurance for the banks whether the person would be able to consistently earn and have the same potential to pay back when they were applying for the loan.\n",
    "- Semiurban aread have a high chance of loan approval compared to rural and urban. It's also the same for loan rejection scenario where semiurban residents were less likely to receive rejection compared to other settings."
   ]
  },
  {
   "cell_type": "code",
   "execution_count": 19,
   "id": "b93086a7",
   "metadata": {},
   "outputs": [
    {
     "data": {
      "image/png": "[encoded data removed]",
      "text/plain": [
       "<Figure size 1080x720 with 5 Axes>"
      ]
     },
     "metadata": {
      "needs_background": "light"
     },
     "output_type": "display_data"
    },
    {
     "data": {
      "image/png": "[encoded data removed]",
      "text/plain": [
       "<Figure size 1080x720 with 5 Axes>"
      ]
     },
     "metadata": {
      "needs_background": "light"
     },
     "output_type": "display_data"
    }
   ],
   "source": [
    "\n",
    "plt.figure(figsize=(15,10))\n",
    "number=1\n",
    "\n",
    "for col in num_df.columns:\n",
    "    if number<=6:\n",
    "        ax=plt.subplot(2,3,number)\n",
    "        sns.distplot(num_df[col])         \n",
    "        plt.xlabel(col,fontsize=15)\n",
    "        plt.xticks(rotation=45)\n",
    "        number+=1\n",
    "plt.tight_layout()\n",
    "plt.show()\n",
    "plt.figure(figsize=(15,10))\n",
    "num=1\n",
    "for col in num_df.columns:\n",
    "    if num<=6:\n",
    "        ax=plt.subplot(2,3,num)\n",
    "        sns.stripplot(y=\"Loan_Status\",x=col,data=df)        \n",
    "        plt.xlabel(col,fontsize=15)\n",
    "        plt.xticks(rotation=45)\n",
    "        num+=1\n",
    "plt.tight_layout()\n",
    "plt.show()"
   ]
  },
  {
   "cell_type": "markdown",
   "id": "92cf719e",
   "metadata": {},
   "source": [
    "Observation:\n",
    "- Approved applicants have an income below 20,000 and majority of them lies below 10,000, similar chances of being rejected below 10,000.\n",
    "- Majority of the co applicant income lies below 5000\n",
    "- Maximum credit history is 1\n",
    "- Loan amount is maximum at 175\n",
    "- Loan amount term peaks around 350\n",
    "- co applicant with higher income got rejected indicating how it wasn't making a big impact on loan approval.\n",
    "- Loan amount below 250 was most likely to be approved by the bank.\n",
    "- at loan amount 190 and 350, chances of being approved or rejected for a loan were 50% equally.\n"
   ]
  },
  {
   "cell_type": "code",
   "execution_count": 20,
   "id": "2ef42c25",
   "metadata": {},
   "outputs": [
    {
     "data": {
      "text/plain": [
       "<AxesSubplot:>"
      ]
     },
     "execution_count": 20,
     "metadata": {},
     "output_type": "execute_result"
    },
    {
     "data": {
      "image/png": "[encoded data removed]",
      "text/plain": [
       "<Figure size 432x288 with 2 Axes>"
      ]
     },
     "metadata": {
      "needs_background": "light"
     },
     "output_type": "display_data"
    }
   ],
   "source": [
    "sns.heatmap(df.corr(),annot=True,cmap=\"Spectral\")"
   ]
  },
  {
   "cell_type": "markdown",
   "id": "e691893e",
   "metadata": {},
   "source": [
    "Now we can proceed with imputation and data transformation!"
   ]
  },
  {
   "cell_type": "markdown",
   "id": "7c73731d",
   "metadata": {},
   "source": [
    "## Data Transformation:"
   ]
  },
  {
   "cell_type": "code",
   "execution_count": 21,
   "id": "0160f629",
   "metadata": {},
   "outputs": [],
   "source": [
    "df.drop_duplicates(inplace=True)"
   ]
  },
  {
   "cell_type": "code",
   "execution_count": 22,
   "id": "5c1b9216",
   "metadata": {},
   "outputs": [
    {
     "data": {
      "text/plain": [
       "(614, 13)"
      ]
     },
     "execution_count": 22,
     "metadata": {},
     "output_type": "execute_result"
    }
   ],
   "source": [
    "df.shape"
   ]
  },
  {
   "cell_type": "markdown",
   "id": "ec3daf29",
   "metadata": {},
   "source": [
    "No duplicated were present in the dataset."
   ]
  },
  {
   "cell_type": "code",
   "execution_count": 23,
   "id": "9adf697b",
   "metadata": {},
   "outputs": [
    {
     "data": {
      "text/plain": [
       "Loan_ID               0\n",
       "Gender               13\n",
       "Married               3\n",
       "Dependents           15\n",
       "Education             0\n",
       "Self_Employed        32\n",
       "ApplicantIncome       0\n",
       "CoapplicantIncome     0\n",
       "LoanAmount           22\n",
       "Loan_Amount_Term     14\n",
       "Credit_History       50\n",
       "Property_Area         0\n",
       "Loan_Status           0\n",
       "dtype: int64"
      ]
     },
     "execution_count": 23,
     "metadata": {},
     "output_type": "execute_result"
    }
   ],
   "source": [
    "df.isnull().sum()"
   ]
  },
  {
   "cell_type": "code",
   "execution_count": 24,
   "id": "ba1f8fe1",
   "metadata": {},
   "outputs": [],
   "source": [
    "df[\"LoanAmount\"].fillna(df[\"LoanAmount\"].mean(),inplace=True)\n",
    "df[\"Loan_Amount_Term\"].fillna(df[\"Loan_Amount_Term\"].mean(),inplace=True)\n",
    "df[\"Credit_History\"].fillna(df[\"Credit_History\"].mean(),inplace=True)\n",
    "df[\"Gender\"].fillna(df[\"Gender\"].mode()[0],inplace=True)\n",
    "df[\"Married\"].fillna(df[\"Married\"].mode()[0],inplace=True)\n",
    "df[\"Dependents\"].fillna(df[\"Dependents\"].mode()[0],inplace=True)\n",
    "df[\"Self_Employed\"].fillna(df[\"Self_Employed\"].mode()[0],inplace=True)"
   ]
  },
  {
   "cell_type": "code",
   "execution_count": 25,
   "id": "21832b84",
   "metadata": {},
   "outputs": [
    {
     "data": {
      "text/plain": [
       "Loan_ID              0\n",
       "Gender               0\n",
       "Married              0\n",
       "Dependents           0\n",
       "Education            0\n",
       "Self_Employed        0\n",
       "ApplicantIncome      0\n",
       "CoapplicantIncome    0\n",
       "LoanAmount           0\n",
       "Loan_Amount_Term     0\n",
       "Credit_History       0\n",
       "Property_Area        0\n",
       "Loan_Status          0\n",
       "dtype: int64"
      ]
     },
     "execution_count": 25,
     "metadata": {},
     "output_type": "execute_result"
    }
   ],
   "source": [
    "df.isnull().sum()"
   ]
  },
  {
   "cell_type": "markdown",
   "id": "803d028a",
   "metadata": {},
   "source": [
    "We've successfully imputed the Nan values in both nymerical and categorical values."
   ]
  },
  {
   "cell_type": "code",
   "execution_count": 26,
   "id": "0e0ef429",
   "metadata": {},
   "outputs": [],
   "source": [
    "cat_df=df.select_dtypes(include=\"object\")\n",
    "num_df=df.select_dtypes(exclude=\"object\")"
   ]
  },
  {
   "cell_type": "markdown",
   "id": "fb9a6299",
   "metadata": {},
   "source": [
    "### Checking Outliers:"
   ]
  },
  {
   "cell_type": "code",
   "execution_count": 27,
   "id": "08a0e01e",
   "metadata": {
    "scrolled": false
   },
   "outputs": [
    {
     "data": {
      "text/plain": [
       "<AxesSubplot:>"
      ]
     },
     "execution_count": 27,
     "metadata": {},
     "output_type": "execute_result"
    },
    {
     "data": {
      "image/png": "[encoded data removed]",
      "text/plain": [
       "<Figure size 1080x720 with 1 Axes>"
      ]
     },
     "metadata": {
      "needs_background": "light"
     },
     "output_type": "display_data"
    }
   ],
   "source": [
    "plt.figure(figsize=(15,10))\n",
    "df.boxplot()"
   ]
  },
  {
   "cell_type": "markdown",
   "id": "5810e3ea",
   "metadata": {},
   "source": [
    "All the columns are containing outliers."
   ]
  },
  {
   "cell_type": "code",
   "execution_count": 28,
   "id": "62b411e6",
   "metadata": {},
   "outputs": [],
   "source": [
    "z=np.abs(zscore(num_df))\n",
    "threshold=3\n",
    "df_new=df[(z<3).all(axis=1)]"
   ]
  },
  {
   "cell_type": "code",
   "execution_count": 29,
   "id": "92bc6361",
   "metadata": {},
   "outputs": [
    {
     "data": {
      "text/plain": [
       "(577, 13)"
      ]
     },
     "execution_count": 29,
     "metadata": {},
     "output_type": "execute_result"
    }
   ],
   "source": [
    "df_new.shape"
   ]
  },
  {
   "cell_type": "markdown",
   "id": "96425557",
   "metadata": {},
   "source": [
    "### Check Skewness: "
   ]
  },
  {
   "cell_type": "code",
   "execution_count": 30,
   "id": "abdde3a8",
   "metadata": {},
   "outputs": [
    {
     "data": {
      "text/plain": [
       "ApplicantIncome      2.148522\n",
       "CoapplicantIncome    1.350517\n",
       "LoanAmount           1.113132\n",
       "Loan_Amount_Term    -2.077031\n",
       "Credit_History      -1.921860\n",
       "dtype: float64"
      ]
     },
     "execution_count": 30,
     "metadata": {},
     "output_type": "execute_result"
    }
   ],
   "source": [
    "df_new.skew()"
   ]
  },
  {
   "cell_type": "code",
   "execution_count": 31,
   "id": "e476ecc6",
   "metadata": {},
   "outputs": [],
   "source": [
    "for col in num_df.columns:\n",
    "    df_new[col]=np.log1p(df_new[col])"
   ]
  },
  {
   "cell_type": "code",
   "execution_count": 32,
   "id": "18a6c2b5",
   "metadata": {},
   "outputs": [
    {
     "data": {
      "text/plain": [
       "ApplicantIncome     -0.204913\n",
       "CoapplicantIncome   -0.216757\n",
       "LoanAmount          -0.697883\n",
       "Loan_Amount_Term    -2.724482\n",
       "Credit_History      -1.944692\n",
       "dtype: float64"
      ]
     },
     "execution_count": 32,
     "metadata": {},
     "output_type": "execute_result"
    }
   ],
   "source": [
    "df_new.skew()"
   ]
  },
  {
   "cell_type": "markdown",
   "id": "1dde1291",
   "metadata": {},
   "source": [
    "The skewness has reduced quite a bit for first three columns but not for the last 2 features."
   ]
  },
  {
   "cell_type": "markdown",
   "id": "5aa986ed",
   "metadata": {},
   "source": [
    "### Encoding target column:"
   ]
  },
  {
   "cell_type": "code",
   "execution_count": 33,
   "id": "028d76e2",
   "metadata": {},
   "outputs": [],
   "source": [
    "le=LabelEncoder()"
   ]
  },
  {
   "cell_type": "code",
   "execution_count": 34,
   "id": "1741f330",
   "metadata": {},
   "outputs": [
    {
     "data": {
      "text/plain": [
       "0      1\n",
       "1      0\n",
       "2      1\n",
       "3      1\n",
       "4      1\n",
       "      ..\n",
       "609    1\n",
       "610    1\n",
       "611    1\n",
       "612    1\n",
       "613    0\n",
       "Name: Loan_Status, Length: 577, dtype: int32"
      ]
     },
     "execution_count": 34,
     "metadata": {},
     "output_type": "execute_result"
    }
   ],
   "source": [
    "df_new[\"Loan_Status\"]=le.fit_transform(df_new['Loan_Status'])\n",
    "df_new[\"Loan_Status\"]"
   ]
  },
  {
   "cell_type": "code",
   "execution_count": 35,
   "id": "abd5a57a",
   "metadata": {},
   "outputs": [
    {
     "data": {
      "text/plain": [
       "LP001469    1\n",
       "LP001114    1\n",
       "LP002494    1\n",
       "LP001743    1\n",
       "LP001616    1\n",
       "           ..\n",
       "LP001846    1\n",
       "LP001990    1\n",
       "LP002225    1\n",
       "LP001603    1\n",
       "LP001872    1\n",
       "Name: Loan_ID, Length: 614, dtype: int64"
      ]
     },
     "execution_count": 35,
     "metadata": {},
     "output_type": "execute_result"
    }
   ],
   "source": [
    "df['Loan_ID'].value_counts()"
   ]
  },
  {
   "cell_type": "markdown",
   "id": "8ba2c886",
   "metadata": {},
   "source": [
    "We can drop \"Loan ID\", as its ordinal and each value is unique in nature and wont help model to gain any useful information."
   ]
  },
  {
   "cell_type": "code",
   "execution_count": 36,
   "id": "42a76de1",
   "metadata": {},
   "outputs": [],
   "source": [
    "df_new.drop([\"Loan_ID\"],inplace=True,axis=1)"
   ]
  },
  {
   "cell_type": "code",
   "execution_count": 37,
   "id": "519ae891",
   "metadata": {},
   "outputs": [
    {
     "data": {
      "text/plain": [
       "(577, 12)"
      ]
     },
     "execution_count": 37,
     "metadata": {},
     "output_type": "execute_result"
    }
   ],
   "source": [
    "df_new.shape"
   ]
  },
  {
   "cell_type": "markdown",
   "id": "d1e9221d",
   "metadata": {},
   "source": [
    "Now, we know that plots  applicant Income and Co Applicant Income were similar. So we can actually merge the information provifded by these features into one and make it easier for the model to gain insights of 2 columns from one and reduce the time in model making."
   ]
  },
  {
   "cell_type": "code",
   "execution_count": 38,
   "id": "102ee4cf",
   "metadata": {},
   "outputs": [],
   "source": [
    "df_new['All_Income'] = df_new['ApplicantIncome'] + df_new['CoapplicantIncome']\n",
    "df_new.drop(['ApplicantIncome', 'CoapplicantIncome'], axis=1,inplace=True)"
   ]
  },
  {
   "cell_type": "code",
   "execution_count": 39,
   "id": "37135138",
   "metadata": {},
   "outputs": [],
   "source": [
    "cat_df=df_new.select_dtypes(include=\"object\")\n",
    "num_df=df_new.select_dtypes(exclude=\"object\")"
   ]
  },
  {
   "cell_type": "markdown",
   "id": "8fb0f1f9",
   "metadata": {},
   "source": [
    "Let's update the num and cat_df with the imputed dataframe."
   ]
  },
  {
   "cell_type": "code",
   "execution_count": 40,
   "id": "0b2b2a90",
   "metadata": {},
   "outputs": [
    {
     "data": {
      "text/plain": [
       "<AxesSubplot:>"
      ]
     },
     "execution_count": 40,
     "metadata": {},
     "output_type": "execute_result"
    },
    {
     "data": {
      "image/png": "[encoded data removed]",
      "text/plain": [
       "<Figure size 432x288 with 2 Axes>"
      ]
     },
     "metadata": {
      "needs_background": "light"
     },
     "output_type": "display_data"
    }
   ],
   "source": [
    "sns.heatmap(num_df.corr(),annot=True,cmap=\"Spectral\")"
   ]
  },
  {
   "cell_type": "markdown",
   "id": "dcf9f835",
   "metadata": {},
   "source": [
    "Multicollinearity is there between Credit_history and Loan_Status, but its low and we can ignore it."
   ]
  },
  {
   "cell_type": "code",
   "execution_count": 41,
   "id": "c4af816f",
   "metadata": {},
   "outputs": [
    {
     "data": {
      "text/plain": [
       "Index(['Gender', 'Married', 'Dependents', 'Education', 'Self_Employed',\n",
       "       'Property_Area'],\n",
       "      dtype='object')"
      ]
     },
     "execution_count": 41,
     "metadata": {},
     "output_type": "execute_result"
    }
   ],
   "source": [
    "cat_df.columns"
   ]
  },
  {
   "cell_type": "markdown",
   "id": "13dd070a",
   "metadata": {},
   "source": [
    "Excluding the target variable which we have encoded earlier!"
   ]
  },
  {
   "cell_type": "markdown",
   "id": "78d1ed54",
   "metadata": {},
   "source": [
    "## Encoding:"
   ]
  },
  {
   "cell_type": "code",
   "execution_count": 42,
   "id": "903837c7",
   "metadata": {},
   "outputs": [],
   "source": [
    "for col in cat_df.columns:\n",
    "    df_new[col]=le.fit_transform(df_new[col])"
   ]
  },
  {
   "cell_type": "code",
   "execution_count": 43,
   "id": "77551187",
   "metadata": {},
   "outputs": [
    {
     "data": {
      "text/html": [
       "<div>\n",
       "<style scoped>\n",
       "    .dataframe tbody tr th:only-of-type {\n",
       "        vertical-align: middle;\n",
       "    }\n",
       "\n",
       "    .dataframe tbody tr th {\n",
       "        vertical-align: top;\n",
       "    }\n",
       "\n",
       "    .dataframe thead th {\n",
       "        text-align: right;\n",
       "    }\n",
       "</style>\n",
       "<table border=\"1\" class=\"dataframe\">\n",
       "  <thead>\n",
       "    <tr style=\"text-align: right;\">\n",
       "      <th></th>\n",
       "      <th>Gender</th>\n",
       "      <th>Married</th>\n",
       "      <th>Dependents</th>\n",
       "      <th>Education</th>\n",
       "      <th>Self_Employed</th>\n",
       "      <th>LoanAmount</th>\n",
       "      <th>Loan_Amount_Term</th>\n",
       "      <th>Credit_History</th>\n",
       "      <th>Property_Area</th>\n",
       "      <th>Loan_Status</th>\n",
       "      <th>All_Income</th>\n",
       "    </tr>\n",
       "  </thead>\n",
       "  <tbody>\n",
       "    <tr>\n",
       "      <th>0</th>\n",
       "      <td>1</td>\n",
       "      <td>0</td>\n",
       "      <td>0</td>\n",
       "      <td>0</td>\n",
       "      <td>0</td>\n",
       "      <td>4.993232</td>\n",
       "      <td>5.888878</td>\n",
       "      <td>0.693147</td>\n",
       "      <td>2</td>\n",
       "      <td>1</td>\n",
       "      <td>8.674197</td>\n",
       "    </tr>\n",
       "    <tr>\n",
       "      <th>1</th>\n",
       "      <td>1</td>\n",
       "      <td>1</td>\n",
       "      <td>1</td>\n",
       "      <td>0</td>\n",
       "      <td>0</td>\n",
       "      <td>4.859812</td>\n",
       "      <td>5.888878</td>\n",
       "      <td>0.693147</td>\n",
       "      <td>0</td>\n",
       "      <td>0</td>\n",
       "      <td>15.749530</td>\n",
       "    </tr>\n",
       "    <tr>\n",
       "      <th>2</th>\n",
       "      <td>1</td>\n",
       "      <td>1</td>\n",
       "      <td>0</td>\n",
       "      <td>0</td>\n",
       "      <td>1</td>\n",
       "      <td>4.204693</td>\n",
       "      <td>5.888878</td>\n",
       "      <td>0.693147</td>\n",
       "      <td>2</td>\n",
       "      <td>1</td>\n",
       "      <td>8.006701</td>\n",
       "    </tr>\n",
       "    <tr>\n",
       "      <th>3</th>\n",
       "      <td>1</td>\n",
       "      <td>1</td>\n",
       "      <td>0</td>\n",
       "      <td>1</td>\n",
       "      <td>0</td>\n",
       "      <td>4.795791</td>\n",
       "      <td>5.888878</td>\n",
       "      <td>0.693147</td>\n",
       "      <td>2</td>\n",
       "      <td>1</td>\n",
       "      <td>15.623087</td>\n",
       "    </tr>\n",
       "    <tr>\n",
       "      <th>4</th>\n",
       "      <td>1</td>\n",
       "      <td>0</td>\n",
       "      <td>0</td>\n",
       "      <td>0</td>\n",
       "      <td>0</td>\n",
       "      <td>4.955827</td>\n",
       "      <td>5.888878</td>\n",
       "      <td>0.693147</td>\n",
       "      <td>2</td>\n",
       "      <td>1</td>\n",
       "      <td>8.699681</td>\n",
       "    </tr>\n",
       "  </tbody>\n",
       "</table>\n",
       "</div>"
      ],
      "text/plain": [
       "   Gender  Married  Dependents  Education  Self_Employed  LoanAmount  \\\n",
       "0       1        0           0          0              0    4.993232   \n",
       "1       1        1           1          0              0    4.859812   \n",
       "2       1        1           0          0              1    4.204693   \n",
       "3       1        1           0          1              0    4.795791   \n",
       "4       1        0           0          0              0    4.955827   \n",
       "\n",
       "   Loan_Amount_Term  Credit_History  Property_Area  Loan_Status  All_Income  \n",
       "0          5.888878        0.693147              2            1    8.674197  \n",
       "1          5.888878        0.693147              0            0   15.749530  \n",
       "2          5.888878        0.693147              2            1    8.006701  \n",
       "3          5.888878        0.693147              2            1   15.623087  \n",
       "4          5.888878        0.693147              2            1    8.699681  "
      ]
     },
     "execution_count": 43,
     "metadata": {},
     "output_type": "execute_result"
    }
   ],
   "source": [
    "df_new.head()"
   ]
  },
  {
   "cell_type": "markdown",
   "id": "f7d1eb15",
   "metadata": {},
   "source": [
    "### Splitting the dataset:"
   ]
  },
  {
   "cell_type": "code",
   "execution_count": 44,
   "id": "23712c72",
   "metadata": {},
   "outputs": [],
   "source": [
    "x=df_new.drop(columns=[\"Loan_Status\"])\n",
    "y=df_new['Loan_Status']"
   ]
  },
  {
   "cell_type": "code",
   "execution_count": 45,
   "id": "e32460f2",
   "metadata": {},
   "outputs": [
    {
     "data": {
      "text/html": [
       "<div>\n",
       "<style scoped>\n",
       "    .dataframe tbody tr th:only-of-type {\n",
       "        vertical-align: middle;\n",
       "    }\n",
       "\n",
       "    .dataframe tbody tr th {\n",
       "        vertical-align: top;\n",
       "    }\n",
       "\n",
       "    .dataframe thead th {\n",
       "        text-align: right;\n",
       "    }\n",
       "</style>\n",
       "<table border=\"1\" class=\"dataframe\">\n",
       "  <thead>\n",
       "    <tr style=\"text-align: right;\">\n",
       "      <th></th>\n",
       "      <th>Gender</th>\n",
       "      <th>Married</th>\n",
       "      <th>Dependents</th>\n",
       "      <th>Education</th>\n",
       "      <th>Self_Employed</th>\n",
       "      <th>LoanAmount</th>\n",
       "      <th>Loan_Amount_Term</th>\n",
       "      <th>Credit_History</th>\n",
       "      <th>Property_Area</th>\n",
       "      <th>All_Income</th>\n",
       "    </tr>\n",
       "  </thead>\n",
       "  <tbody>\n",
       "    <tr>\n",
       "      <th>0</th>\n",
       "      <td>1</td>\n",
       "      <td>0</td>\n",
       "      <td>0</td>\n",
       "      <td>0</td>\n",
       "      <td>0</td>\n",
       "      <td>4.993232</td>\n",
       "      <td>5.888878</td>\n",
       "      <td>0.693147</td>\n",
       "      <td>2</td>\n",
       "      <td>8.674197</td>\n",
       "    </tr>\n",
       "    <tr>\n",
       "      <th>1</th>\n",
       "      <td>1</td>\n",
       "      <td>1</td>\n",
       "      <td>1</td>\n",
       "      <td>0</td>\n",
       "      <td>0</td>\n",
       "      <td>4.859812</td>\n",
       "      <td>5.888878</td>\n",
       "      <td>0.693147</td>\n",
       "      <td>0</td>\n",
       "      <td>15.749530</td>\n",
       "    </tr>\n",
       "    <tr>\n",
       "      <th>2</th>\n",
       "      <td>1</td>\n",
       "      <td>1</td>\n",
       "      <td>0</td>\n",
       "      <td>0</td>\n",
       "      <td>1</td>\n",
       "      <td>4.204693</td>\n",
       "      <td>5.888878</td>\n",
       "      <td>0.693147</td>\n",
       "      <td>2</td>\n",
       "      <td>8.006701</td>\n",
       "    </tr>\n",
       "    <tr>\n",
       "      <th>3</th>\n",
       "      <td>1</td>\n",
       "      <td>1</td>\n",
       "      <td>0</td>\n",
       "      <td>1</td>\n",
       "      <td>0</td>\n",
       "      <td>4.795791</td>\n",
       "      <td>5.888878</td>\n",
       "      <td>0.693147</td>\n",
       "      <td>2</td>\n",
       "      <td>15.623087</td>\n",
       "    </tr>\n",
       "    <tr>\n",
       "      <th>4</th>\n",
       "      <td>1</td>\n",
       "      <td>0</td>\n",
       "      <td>0</td>\n",
       "      <td>0</td>\n",
       "      <td>0</td>\n",
       "      <td>4.955827</td>\n",
       "      <td>5.888878</td>\n",
       "      <td>0.693147</td>\n",
       "      <td>2</td>\n",
       "      <td>8.699681</td>\n",
       "    </tr>\n",
       "    <tr>\n",
       "      <th>...</th>\n",
       "      <td>...</td>\n",
       "      <td>...</td>\n",
       "      <td>...</td>\n",
       "      <td>...</td>\n",
       "      <td>...</td>\n",
       "      <td>...</td>\n",
       "      <td>...</td>\n",
       "      <td>...</td>\n",
       "      <td>...</td>\n",
       "      <td>...</td>\n",
       "    </tr>\n",
       "    <tr>\n",
       "      <th>609</th>\n",
       "      <td>0</td>\n",
       "      <td>0</td>\n",
       "      <td>0</td>\n",
       "      <td>0</td>\n",
       "      <td>0</td>\n",
       "      <td>4.276666</td>\n",
       "      <td>5.888878</td>\n",
       "      <td>0.693147</td>\n",
       "      <td>0</td>\n",
       "      <td>7.972811</td>\n",
       "    </tr>\n",
       "    <tr>\n",
       "      <th>610</th>\n",
       "      <td>1</td>\n",
       "      <td>1</td>\n",
       "      <td>3</td>\n",
       "      <td>0</td>\n",
       "      <td>0</td>\n",
       "      <td>3.713572</td>\n",
       "      <td>5.198497</td>\n",
       "      <td>0.693147</td>\n",
       "      <td>0</td>\n",
       "      <td>8.320448</td>\n",
       "    </tr>\n",
       "    <tr>\n",
       "      <th>611</th>\n",
       "      <td>1</td>\n",
       "      <td>1</td>\n",
       "      <td>1</td>\n",
       "      <td>0</td>\n",
       "      <td>0</td>\n",
       "      <td>5.537334</td>\n",
       "      <td>5.888878</td>\n",
       "      <td>0.693147</td>\n",
       "      <td>2</td>\n",
       "      <td>14.481077</td>\n",
       "    </tr>\n",
       "    <tr>\n",
       "      <th>612</th>\n",
       "      <td>1</td>\n",
       "      <td>1</td>\n",
       "      <td>2</td>\n",
       "      <td>0</td>\n",
       "      <td>0</td>\n",
       "      <td>5.236442</td>\n",
       "      <td>5.888878</td>\n",
       "      <td>0.693147</td>\n",
       "      <td>2</td>\n",
       "      <td>8.933796</td>\n",
       "    </tr>\n",
       "    <tr>\n",
       "      <th>613</th>\n",
       "      <td>0</td>\n",
       "      <td>0</td>\n",
       "      <td>0</td>\n",
       "      <td>0</td>\n",
       "      <td>1</td>\n",
       "      <td>4.897840</td>\n",
       "      <td>5.888878</td>\n",
       "      <td>0.000000</td>\n",
       "      <td>1</td>\n",
       "      <td>8.430327</td>\n",
       "    </tr>\n",
       "  </tbody>\n",
       "</table>\n",
       "<p>577 rows × 10 columns</p>\n",
       "</div>"
      ],
      "text/plain": [
       "     Gender  Married  Dependents  Education  Self_Employed  LoanAmount  \\\n",
       "0         1        0           0          0              0    4.993232   \n",
       "1         1        1           1          0              0    4.859812   \n",
       "2         1        1           0          0              1    4.204693   \n",
       "3         1        1           0          1              0    4.795791   \n",
       "4         1        0           0          0              0    4.955827   \n",
       "..      ...      ...         ...        ...            ...         ...   \n",
       "609       0        0           0          0              0    4.276666   \n",
       "610       1        1           3          0              0    3.713572   \n",
       "611       1        1           1          0              0    5.537334   \n",
       "612       1        1           2          0              0    5.236442   \n",
       "613       0        0           0          0              1    4.897840   \n",
       "\n",
       "     Loan_Amount_Term  Credit_History  Property_Area  All_Income  \n",
       "0            5.888878        0.693147              2    8.674197  \n",
       "1            5.888878        0.693147              0   15.749530  \n",
       "2            5.888878        0.693147              2    8.006701  \n",
       "3            5.888878        0.693147              2   15.623087  \n",
       "4            5.888878        0.693147              2    8.699681  \n",
       "..                ...             ...            ...         ...  \n",
       "609          5.888878        0.693147              0    7.972811  \n",
       "610          5.198497        0.693147              0    8.320448  \n",
       "611          5.888878        0.693147              2   14.481077  \n",
       "612          5.888878        0.693147              2    8.933796  \n",
       "613          5.888878        0.000000              1    8.430327  \n",
       "\n",
       "[577 rows x 10 columns]"
      ]
     },
     "execution_count": 45,
     "metadata": {},
     "output_type": "execute_result"
    }
   ],
   "source": [
    "x"
   ]
  },
  {
   "cell_type": "code",
   "execution_count": 46,
   "id": "2aec582f",
   "metadata": {},
   "outputs": [],
   "source": [
    "sc=StandardScaler()\n",
    "xs=sc.fit_transform(x)"
   ]
  },
  {
   "cell_type": "markdown",
   "id": "646494e4",
   "metadata": {},
   "source": [
    "### Best Random State:"
   ]
  },
  {
   "cell_type": "code",
   "execution_count": 165,
   "id": "a2a98f03",
   "metadata": {},
   "outputs": [
    {
     "name": "stdout",
     "output_type": "stream",
     "text": [
      "Best accuracy is 0.9103448275862069 on Random State 494\n"
     ]
    }
   ],
   "source": [
    "maxAccu=0\n",
    "maxRS=0\n",
    "for i in range(1,500):\n",
    "    x_train, x_test,y_train, y_test=train_test_split(xs,y,test_size=.25,random_state=i)\n",
    "    LR=LogisticRegression()\n",
    "    LR.fit(x_train,y_train)\n",
    "    predrf=LR.predict(x_test)\n",
    "    acc=accuracy_score(y_test,predrf)\n",
    "    if acc>maxAccu:\n",
    "        maxAccu=acc\n",
    "        maxRS=i\n",
    "print(\"Best accuracy is\", maxAccu,\"on Random State\",maxRS)"
   ]
  },
  {
   "cell_type": "code",
   "execution_count": 47,
   "id": "d27422c7",
   "metadata": {},
   "outputs": [],
   "source": [
    "X_train, X_test, y_train, y_test = train_test_split(xs, y, test_size=0.25, random_state=494)\n",
    "sm = SMOTE(random_state=494)\n",
    "X_train, y_train = sm.fit_resample(X_train, y_train)"
   ]
  },
  {
   "cell_type": "code",
   "execution_count": 48,
   "id": "d38de5b8",
   "metadata": {},
   "outputs": [
    {
     "data": {
      "text/plain": [
       "0    285\n",
       "1    285\n",
       "Name: Loan_Status, dtype: int64"
      ]
     },
     "execution_count": 48,
     "metadata": {},
     "output_type": "execute_result"
    }
   ],
   "source": [
    "y_train.value_counts()"
   ]
  },
  {
   "cell_type": "code",
   "execution_count": 49,
   "id": "6ad74315",
   "metadata": {},
   "outputs": [
    {
     "data": {
      "text/plain": [
       "1    398\n",
       "0    179\n",
       "Name: Loan_Status, dtype: int64"
      ]
     },
     "execution_count": 49,
     "metadata": {},
     "output_type": "execute_result"
    }
   ],
   "source": [
    "y.value_counts()"
   ]
  },
  {
   "cell_type": "markdown",
   "id": "d59cf38a",
   "metadata": {},
   "source": [
    "## Model1: Logistic Regression"
   ]
  },
  {
   "cell_type": "code",
   "execution_count": 169,
   "id": "54c7a09d",
   "metadata": {},
   "outputs": [
    {
     "name": "stdout",
     "output_type": "stream",
     "text": [
      "Best Parameters for Logistic Regression:  {'solver': 'saga', 'penalty': 'l2', 'C': 1}\n",
      "Best Score for Logistic Regression:  0.7070175438596491\n",
      "------------------------------------------\n"
     ]
    }
   ],
   "source": [
    "log_reg_params = {\"penalty\": ['l1', 'l2','elasticnet','none'], 'C': [0.01, 0.1, 1, 10],'solver':['newton-cg', 'lbfgs', 'liblinear', 'sag', 'saga']}\n",
    "rand_log_reg = RandomizedSearchCV(LogisticRegression(), log_reg_params)\n",
    "rand_log_reg.fit(X_train, y_train)\n",
    "# We automatically get the logistic regression with the best parameters.\n",
    "log_reg = rand_log_reg.best_estimator_\n",
    "print(\"Best Parameters for Logistic Regression: \", rand_log_reg.best_params_)\n",
    "print(\"Best Score for Logistic Regression: \", rand_log_reg.best_score_)\n",
    "print(\"------------------------------------------\")"
   ]
  },
  {
   "cell_type": "code",
   "execution_count": 170,
   "id": "575aa40a",
   "metadata": {},
   "outputs": [],
   "source": [
    "lr = LogisticRegression(solver='saga',C= 1, penalty= 'l2').fit(X_train, y_train)\n",
    "pred_train = lr.predict(X_train)\n",
    "pred_test = lr.predict(X_test)"
   ]
  },
  {
   "cell_type": "code",
   "execution_count": 171,
   "id": "3280433a",
   "metadata": {},
   "outputs": [
    {
     "name": "stdout",
     "output_type": "stream",
     "text": [
      "              precision    recall  f1-score   support\n",
      "\n",
      "           0       0.54      0.62      0.58        32\n",
      "           1       0.89      0.85      0.87       113\n",
      "\n",
      "    accuracy                           0.80       145\n",
      "   macro avg       0.71      0.74      0.72       145\n",
      "weighted avg       0.81      0.80      0.80       145\n",
      "\n"
     ]
    }
   ],
   "source": [
    "print(classification_report(y_test,pred_test))"
   ]
  },
  {
   "cell_type": "code",
   "execution_count": 173,
   "id": "f0f4d898",
   "metadata": {},
   "outputs": [
    {
     "name": "stdout",
     "output_type": "stream",
     "text": [
      "At cv=  2\n",
      "Cross Val score :  81.45905420991926\n",
      "accuracy score is :  80.0\n",
      "\n",
      "\n",
      "At cv=  3\n",
      "Cross Val score :  81.11057138744962\n",
      "accuracy score is :  80.0\n",
      "\n",
      "\n",
      "At cv=  4\n",
      "Cross Val score :  81.2823275862069\n",
      "accuracy score is :  80.0\n",
      "\n",
      "\n",
      "At cv=  5\n",
      "Cross Val score :  81.80809595202398\n",
      "accuracy score is :  80.0\n",
      "\n",
      "\n",
      "At cv=  6\n",
      "Cross Val score :  81.79947021764032\n",
      "accuracy score is :  80.0\n",
      "\n",
      "\n",
      "At cv=  7\n",
      "Cross Val score :  81.81646446412829\n",
      "accuracy score is :  80.0\n",
      "\n",
      "\n",
      "At cv=  8\n",
      "Cross Val score :  81.8017503805175\n",
      "accuracy score is :  80.0\n",
      "\n",
      "\n",
      "At cv=  9\n",
      "Cross Val score :  81.80288461538461\n",
      "accuracy score is :  80.0\n",
      "\n",
      "\n"
     ]
    }
   ],
   "source": [
    "pred_lr = lr.predict(X_test)\n",
    "lss = accuracy_score(y_test,pred_lr)\n",
    "for k in range(2,10):\n",
    "    lsscore=cross_val_score(lr,xs,y,cv=k)\n",
    "    lsc=lsscore.mean()\n",
    "    print(\"At cv= \",k)\n",
    "    print(\"Cross Val score : \",lsc*100)\n",
    "    print(\"accuracy score is : \",lss*100)\n",
    "    print(\"\\n\")"
   ]
  },
  {
   "cell_type": "markdown",
   "id": "35e2523a",
   "metadata": {},
   "source": [
    "At cv=  3\n",
    "- Cross Val score :  81.11057138744962\n",
    "- accuracy score is :  80.0"
   ]
  },
  {
   "cell_type": "code",
   "execution_count": 174,
   "id": "f46655c3",
   "metadata": {},
   "outputs": [
    {
     "data": {
      "image/png": "[encoded data removed]",
      "text/plain": [
       "<Figure size 432x288 with 1 Axes>"
      ]
     },
     "metadata": {
      "needs_background": "light"
     },
     "output_type": "display_data"
    }
   ],
   "source": [
    "fpr,tpr,thresholds = roc_curve(pred_test,y_test)\n",
    "roc_auc = auc(fpr,tpr)\n",
    "\n",
    "plt.figure()\n",
    "plt.plot(fpr,tpr,color=\"red\",lw=7,label=\"ROC curve (area = %0.2f)\" % roc_auc)\n",
    "plt.plot([0,1],[0,1],color=\"violet\",lw=8,linestyle=\"--\")\n",
    "plt.xlim([0.0,1.0])\n",
    "plt.ylim([0.0,1.0])\n",
    "plt.xlabel(\"False Positive rate\")\n",
    "plt.ylabel(\"True Positive Rate\")\n",
    "plt.title(\"Receiver operating characterisitic\")\n",
    "plt.legend(loc=\"lower right\")\n",
    "plt.show()"
   ]
  },
  {
   "cell_type": "markdown",
   "id": "c3dad5f5",
   "metadata": {},
   "source": [
    "In general, an AUC of 0.5 suggests no discrimination , 0.7 to 0.8 is considered acceptable, 0.8 to 0.9 is considered excellent, and more than 0.9 is considered outstanding"
   ]
  },
  {
   "cell_type": "markdown",
   "id": "e1c7e6a2",
   "metadata": {},
   "source": [
    "## Model 2: Decision Tree Classifier"
   ]
  },
  {
   "cell_type": "code",
   "execution_count": 175,
   "id": "d053dbf1",
   "metadata": {},
   "outputs": [
    {
     "name": "stdout",
     "output_type": "stream",
     "text": [
      "Best Parameters for Decision Tree:  {'criterion': 'gini', 'max_depth': 19, 'min_samples_leaf': 6}\n",
      "Best Score for Decision Tree:  0.7385964912280703\n"
     ]
    }
   ],
   "source": [
    "tree_params = {\"criterion\": [\"gini\", \"entropy\"], \"max_depth\": list(range(2,30,1)), \n",
    "                  \"min_samples_leaf\":  list(range(5,20,1))}\n",
    "grid_tree = GridSearchCV(DecisionTreeClassifier(), tree_params)\n",
    "grid_tree.fit(X_train, y_train)\n",
    "\n",
    "# tree best estimator\n",
    "tree_clf = grid_tree.best_estimator_\n",
    "print(\"Best Parameters for Decision Tree: \", grid_tree.best_params_)\n",
    "print(\"Best Score for Decision Tree: \", grid_tree.best_score_)"
   ]
  },
  {
   "cell_type": "code",
   "execution_count": 176,
   "id": "cf31c4f3",
   "metadata": {},
   "outputs": [],
   "source": [
    "dec_tree = DecisionTreeClassifier(criterion='gini', max_depth=19, min_samples_leaf=6).fit(X_train, y_train)\n",
    "pred_train2 = dec_tree.predict(X_train)\n",
    "pred_test2 = dec_tree.predict(X_test) "
   ]
  },
  {
   "cell_type": "code",
   "execution_count": 177,
   "id": "8953150b",
   "metadata": {},
   "outputs": [
    {
     "name": "stdout",
     "output_type": "stream",
     "text": [
      "              precision    recall  f1-score   support\n",
      "\n",
      "           0       0.44      0.75      0.56        32\n",
      "           1       0.91      0.73      0.81       113\n",
      "\n",
      "    accuracy                           0.74       145\n",
      "   macro avg       0.68      0.74      0.69       145\n",
      "weighted avg       0.81      0.74      0.76       145\n",
      "\n"
     ]
    }
   ],
   "source": [
    "print(classification_report(y_test,pred_test2))"
   ]
  },
  {
   "cell_type": "code",
   "execution_count": 179,
   "id": "93e79489",
   "metadata": {},
   "outputs": [
    {
     "data": {
      "text/plain": [
       "<AxesSubplot:title={'center':'Feature Importances of Decision Tree'}, xlabel='Importance'>"
      ]
     },
     "execution_count": 179,
     "metadata": {},
     "output_type": "execute_result"
    },
    {
     "data": {
      "image/png": "[encoded data removed]",
      "text/plain": [
       "<Figure size 1080x720 with 1 Axes>"
      ]
     },
     "metadata": {
      "needs_background": "light"
     },
     "output_type": "display_data"
    }
   ],
   "source": [
    "feat=pd.DataFrame({\"Importance\": tree_clf.feature_importances_}, \n",
    "                  index=x.columns).sort_values(by=\"Importance\")\n",
    "plt.figure(figsize=(15,10))\n",
    "plt.title(\"Feature Importances of Decision Tree\")\n",
    "\n",
    "sns.barplot(feat[\"Importance\"],feat.index)"
   ]
  },
  {
   "cell_type": "code",
   "execution_count": 181,
   "id": "809fcb51",
   "metadata": {},
   "outputs": [
    {
     "name": "stdout",
     "output_type": "stream",
     "text": [
      "At cv=  2\n",
      "Cross Val score :  72.09727028066129\n",
      "accuracy score is :  73.79310344827587\n",
      "\n",
      "\n",
      "At cv=  3\n",
      "Cross Val score :  74.87226540011514\n",
      "accuracy score is :  73.79310344827587\n",
      "\n",
      "\n",
      "At cv=  4\n",
      "Cross Val score :  74.34506704980843\n",
      "accuracy score is :  73.79310344827587\n",
      "\n",
      "\n",
      "At cv=  5\n",
      "Cross Val score :  73.47976011994002\n",
      "accuracy score is :  73.79310344827587\n",
      "\n",
      "\n",
      "At cv=  6\n",
      "Cross Val score :  73.48045532646047\n",
      "accuracy score is :  73.79310344827587\n",
      "\n",
      "\n",
      "At cv=  7\n",
      "Cross Val score :  73.3155618991646\n",
      "accuracy score is :  73.79310344827587\n",
      "\n",
      "\n",
      "At cv=  8\n",
      "Cross Val score :  71.91305175038052\n",
      "accuracy score is :  73.79310344827587\n",
      "\n",
      "\n",
      "At cv=  9\n",
      "Cross Val score :  72.78044871794872\n",
      "accuracy score is :  73.79310344827587\n",
      "\n",
      "\n"
     ]
    }
   ],
   "source": [
    "pred_dt = dec_tree.predict(X_test)\n",
    "dts = accuracy_score(y_test,pred_dt)\n",
    "for k in range(2,10):\n",
    "    dtscore=cross_val_score(dec_tree,xs,y,cv=k)\n",
    "    dtc=dtscore.mean()\n",
    "    print(\"At cv= \",k)\n",
    "    print(\"Cross Val score : \",dtc*100)\n",
    "    print(\"accuracy score is : \",dts*100)\n",
    "    print(\"\\n\")"
   ]
  },
  {
   "cell_type": "markdown",
   "id": "2523641c",
   "metadata": {},
   "source": [
    "At cv=  5\n",
    "- Cross Val score :  73.47976011994002\n",
    "- accuracy score is :  73.79310344827587"
   ]
  },
  {
   "cell_type": "code",
   "execution_count": 182,
   "id": "69a39769",
   "metadata": {},
   "outputs": [
    {
     "data": {
      "image/png": "[encoded data removed]",
      "text/plain": [
       "<Figure size 432x288 with 1 Axes>"
      ]
     },
     "metadata": {
      "needs_background": "light"
     },
     "output_type": "display_data"
    }
   ],
   "source": [
    "fpr,tpr,thresholds = roc_curve(pred_test2,y_test)\n",
    "roc_auc = auc(fpr,tpr)\n",
    "\n",
    "plt.figure()\n",
    "plt.plot(fpr,tpr,color=\"blue\",lw=7,label=\"ROC curve (area = %0.2f)\" % roc_auc)\n",
    "plt.plot([0,1],[0,1],color=\"darkgreen\",lw=8,linestyle=\"--\")\n",
    "plt.xlim([0.0,1.0])\n",
    "plt.ylim([0.0,1.0])\n",
    "plt.xlabel(\"False Positive rate\")\n",
    "plt.ylabel(\"True Positive Rate\")\n",
    "plt.title(\"Receiver operating characterisitic\")\n",
    "plt.legend(loc=\"lower right\")\n",
    "plt.show()"
   ]
  },
  {
   "cell_type": "markdown",
   "id": "42b7e24c",
   "metadata": {},
   "source": [
    "## Model 3: Random Forest Classifier"
   ]
  },
  {
   "cell_type": "code",
   "execution_count": 183,
   "id": "310454c6",
   "metadata": {},
   "outputs": [
    {
     "name": "stdout",
     "output_type": "stream",
     "text": [
      "Best Parameters for Random Forest:  {'n_estimators': 200, 'min_samples_leaf': 9, 'max_depth': 8, 'bootstrap': False}\n",
      "Best Score for Random Forest:  0.7771929824561403\n",
      "\n",
      "\n"
     ]
    }
   ],
   "source": [
    "forest_params = {\"bootstrap\":[True, False], \"max_depth\": list(range(2,10,1)),\n",
    "                  \"min_samples_leaf\": list(range(5,20,1)),\"n_estimators\":[100,150,200,250,300,350]}\n",
    "rand_forest = RandomizedSearchCV(RandomForestClassifier(), forest_params)\n",
    "rand_forest.fit(X_train, y_train)\n",
    "# forest best estimator\n",
    "forest_clf = rand_forest.best_estimator_\n",
    "print(\"Best Parameters for Random Forest: \", rand_forest.best_params_)\n",
    "print(\"Best Score for Random Forest: \", rand_forest.best_score_)\n",
    "print(\"\\n\")"
   ]
  },
  {
   "cell_type": "code",
   "execution_count": 184,
   "id": "3bd70593",
   "metadata": {},
   "outputs": [],
   "source": [
    "rfc = RandomForestClassifier(bootstrap=False, max_depth=8, min_samples_leaf=9,n_jobs=4,n_estimators=200).fit(X_train, y_train)\n",
    "pred_train3 = rfc.predict(X_train)\n",
    "pred_test3 = rfc.predict(X_test) "
   ]
  },
  {
   "cell_type": "code",
   "execution_count": 186,
   "id": "b5a41e32",
   "metadata": {},
   "outputs": [
    {
     "data": {
      "text/plain": [
       "<AxesSubplot:title={'center':'Feature Importances of Random Forest'}, xlabel='Importance'>"
      ]
     },
     "execution_count": 186,
     "metadata": {},
     "output_type": "execute_result"
    },
    {
     "data": {
      "image/png": "[encoded data removed]",
      "text/plain": [
       "<Figure size 1440x720 with 1 Axes>"
      ]
     },
     "metadata": {
      "needs_background": "light"
     },
     "output_type": "display_data"
    }
   ],
   "source": [
    "feat2=pd.DataFrame({\"Importance\": forest_clf.feature_importances_}, \n",
    "                  index=x.columns).sort_values(by=\"Importance\")\n",
    "plt.figure(figsize=(20,10))\n",
    "plt.title(\"Feature Importances of Random Forest\")\n",
    "\n",
    "sns.barplot(feat[\"Importance\"],feat.index)"
   ]
  },
  {
   "cell_type": "code",
   "execution_count": 187,
   "id": "ae5b8f0e",
   "metadata": {},
   "outputs": [
    {
     "name": "stdout",
     "output_type": "stream",
     "text": [
      "              precision    recall  f1-score   support\n",
      "\n",
      "           0       0.74      0.62      0.68        32\n",
      "           1       0.90      0.94      0.92       113\n",
      "\n",
      "    accuracy                           0.87       145\n",
      "   macro avg       0.82      0.78      0.80       145\n",
      "weighted avg       0.86      0.87      0.86       145\n",
      "\n"
     ]
    }
   ],
   "source": [
    "print(classification_report(y_test,pred_test3))"
   ]
  },
  {
   "cell_type": "code",
   "execution_count": 188,
   "id": "dc5006bf",
   "metadata": {
    "scrolled": false
   },
   "outputs": [
    {
     "name": "stdout",
     "output_type": "stream",
     "text": [
      "At cv=  2\n",
      "Cross Val score :  81.45905420991926\n",
      "accuracy score is :  86.89655172413792\n",
      "\n",
      "\n",
      "At cv=  3\n",
      "Cross Val score :  81.80411629245826\n",
      "accuracy score is :  86.89655172413792\n",
      "\n",
      "\n",
      "At cv=  4\n",
      "Cross Val score :  81.80435823754789\n",
      "accuracy score is :  86.89655172413792\n",
      "\n",
      "\n",
      "At cv=  5\n",
      "Cross Val score :  81.63418290854572\n",
      "accuracy score is :  86.89655172413792\n",
      "\n",
      "\n",
      "At cv=  6\n",
      "Cross Val score :  81.80126002290952\n",
      "accuracy score is :  86.89655172413792\n",
      "\n",
      "\n",
      "At cv=  7\n",
      "Cross Val score :  81.29591536879224\n",
      "accuracy score is :  86.89655172413792\n",
      "\n",
      "\n",
      "At cv=  8\n",
      "Cross Val score :  81.45690639269407\n",
      "accuracy score is :  86.89655172413792\n",
      "\n",
      "\n",
      "At cv=  9\n",
      "Cross Val score :  81.97649572649573\n",
      "accuracy score is :  86.89655172413792\n",
      "\n",
      "\n"
     ]
    }
   ],
   "source": [
    "pred_rfc = rfc.predict(X_test)\n",
    "rss = accuracy_score(y_test,pred_rfc)\n",
    "for k in range(2,10):\n",
    "    rsscore=cross_val_score(rfc,xs,y,cv=k)\n",
    "    rsc=rsscore.mean()\n",
    "    print(\"At cv= \",k)\n",
    "    print(\"Cross Val score : \",rsc*100)\n",
    "    print(\"accuracy score is : \",rss*100)\n",
    "    print(\"\\n\")"
   ]
  },
  {
   "cell_type": "markdown",
   "id": "6240be4f",
   "metadata": {},
   "source": [
    "At cv=  9\n",
    "- Cross Val score :  81.97649572649573\n",
    "- accuracy score is :  86.89655172413792"
   ]
  },
  {
   "cell_type": "code",
   "execution_count": 189,
   "id": "26d86d92",
   "metadata": {},
   "outputs": [
    {
     "data": {
      "image/png": "[encoded data removed]",
      "text/plain": [
       "<Figure size 432x288 with 1 Axes>"
      ]
     },
     "metadata": {
      "needs_background": "light"
     },
     "output_type": "display_data"
    }
   ],
   "source": [
    "fpr,tpr,thresholds = roc_curve(y_test, pred_test3)\n",
    "roc_auc = auc(fpr,tpr)\n",
    "\n",
    "plt.figure()\n",
    "plt.plot(fpr,tpr,color=\"blue\",lw=7,label=\"ROC curve (area = %0.2f)\" % roc_auc)\n",
    "plt.plot([0,1],[0,1],color=\"darkgreen\",lw=8,linestyle=\"--\")\n",
    "plt.xlim([0.0,1.0])\n",
    "plt.ylim([0.0,1.0])\n",
    "plt.xlabel(\"False Positive rate\")\n",
    "plt.ylabel(\"True Positive Rate\")\n",
    "plt.title(\"Receiver operating characterisitic\")\n",
    "plt.legend(loc=\"lower right\")\n",
    "plt.show()"
   ]
  },
  {
   "cell_type": "markdown",
   "id": "77a0659d",
   "metadata": {},
   "source": [
    "## Model 4: SVC"
   ]
  },
  {
   "cell_type": "code",
   "execution_count": 53,
   "id": "7e8fc218",
   "metadata": {},
   "outputs": [],
   "source": [
    "from sklearn.svm import SVC"
   ]
  },
  {
   "cell_type": "code",
   "execution_count": 54,
   "id": "70d0f4ce",
   "metadata": {},
   "outputs": [
    {
     "name": "stdout",
     "output_type": "stream",
     "text": [
      "Best Parameters for SVM:  {'kernel': 'poly', 'gamma': 1, 'C': 0.01}\n",
      "Best Score for SVM:  0.7175438596491228\n",
      "------------------------------------------\n"
     ]
    }
   ],
   "source": [
    "svc_params = {'C':[ 0.01, 0.1, 1.0],\n",
    "              'kernel': ['rbf', 'poly', 'sigmoid', 'linear'], \"gamma\":[.001,0.01,0.1,1]}\n",
    "rand_svc = RandomizedSearchCV(SVC(), svc_params)\n",
    "rand_svc.fit(X_train, y_train)\n",
    "# SVC best estimator\n",
    "svc = rand_svc.best_estimator_\n",
    "print(\"Best Parameters for SVM: \", rand_svc.best_params_)\n",
    "print(\"Best Score for SVM: \", rand_svc.best_score_)\n",
    "print(\"------------------------------------------\")"
   ]
  },
  {
   "cell_type": "code",
   "execution_count": 55,
   "id": "94c16705",
   "metadata": {},
   "outputs": [],
   "source": [
    "svm = SVC(C=20.0, kernel='rbf',gamma = 0.1).fit(X_train, y_train)\n",
    "pred_train4 = svm.predict(X_train)\n",
    "pred_test4 = svm.predict(X_test) "
   ]
  },
  {
   "cell_type": "code",
   "execution_count": 56,
   "id": "fd47d04f",
   "metadata": {},
   "outputs": [
    {
     "name": "stdout",
     "output_type": "stream",
     "text": [
      "              precision    recall  f1-score   support\n",
      "\n",
      "           0       0.46      0.56      0.51        32\n",
      "           1       0.87      0.81      0.84       113\n",
      "\n",
      "    accuracy                           0.76       145\n",
      "   macro avg       0.66      0.69      0.67       145\n",
      "weighted avg       0.78      0.76      0.77       145\n",
      "\n"
     ]
    }
   ],
   "source": [
    "print(classification_report(y_test,pred_test4))"
   ]
  },
  {
   "cell_type": "code",
   "execution_count": 58,
   "id": "e38fb203",
   "metadata": {},
   "outputs": [
    {
     "name": "stdout",
     "output_type": "stream",
     "text": [
      "At cv=  2\n",
      "Cross Val score :  74.87024221453287\n",
      "accuracy score is :  75.86206896551724\n",
      "\n",
      "\n",
      "At cv=  3\n",
      "Cross Val score :  75.91123344847438\n",
      "accuracy score is :  75.86206896551724\n",
      "\n",
      "\n",
      "At cv=  4\n",
      "Cross Val score :  74.5234674329502\n",
      "accuracy score is :  75.86206896551724\n",
      "\n",
      "\n",
      "At cv=  5\n",
      "Cross Val score :  75.7376311844078\n",
      "accuracy score is :  75.86206896551724\n",
      "\n",
      "\n",
      "At cv=  6\n",
      "Cross Val score :  74.86218499427262\n",
      "accuracy score is :  75.86206896551724\n",
      "\n",
      "\n",
      "At cv=  7\n",
      "Cross Val score :  75.04512824818438\n",
      "accuracy score is :  75.86206896551724\n",
      "\n",
      "\n",
      "At cv=  8\n",
      "Cross Val score :  75.56364155251141\n",
      "accuracy score is :  75.86206896551724\n",
      "\n",
      "\n",
      "At cv=  9\n",
      "Cross Val score :  75.21901709401709\n",
      "accuracy score is :  75.86206896551724\n",
      "\n",
      "\n"
     ]
    }
   ],
   "source": [
    "pred_test4 = svm.predict(X_test) \n",
    "\n",
    "svms = accuracy_score(y_test,pred_test4)\n",
    "for k in range(2,10):\n",
    "    svmsscore=cross_val_score(svm,xs,y,cv=k)\n",
    "    svmsc=svmsscore.mean()\n",
    "    print(\"At cv= \",k)\n",
    "    print(\"Cross Val score : \",svmsc*100)\n",
    "    print(\"accuracy score is : \",svms*100)\n",
    "    print(\"\\n\")"
   ]
  },
  {
   "cell_type": "markdown",
   "id": "ce6a890b",
   "metadata": {},
   "source": [
    "At cv=  8\n",
    "- Cross Val score :  75.56364155251141\n",
    "- accuracy score is :  75.86206896551724"
   ]
  },
  {
   "cell_type": "code",
   "execution_count": 59,
   "id": "b457390e",
   "metadata": {},
   "outputs": [
    {
     "data": {
      "image/png": "[encoded data removed]",
      "text/plain": [
       "<Figure size 432x288 with 1 Axes>"
      ]
     },
     "metadata": {
      "needs_background": "light"
     },
     "output_type": "display_data"
    }
   ],
   "source": [
    "fpr,tpr,thresholds = roc_curve(y_test, pred_test4)\n",
    "roc_auc = auc(fpr,tpr)\n",
    "\n",
    "plt.figure()\n",
    "plt.plot(fpr,tpr,color=\"blue\",lw=7,label=\"ROC curve (area = %0.2f)\" % roc_auc)\n",
    "plt.plot([0,1],[0,1],color=\"darkgreen\",lw=8,linestyle=\"--\")\n",
    "plt.xlim([0.0,1.0])\n",
    "plt.ylim([0.0,1.0])\n",
    "plt.xlabel(\"False Positive rate\")\n",
    "plt.ylabel(\"True Positive Rate\")\n",
    "plt.title(\"Receiver operating characterisitic\")\n",
    "plt.legend(loc=\"lower right\")\n",
    "plt.show()"
   ]
  },
  {
   "cell_type": "code",
   "execution_count": null,
   "id": "810fb0b0",
   "metadata": {},
   "outputs": [],
   "source": []
  },
  {
   "cell_type": "markdown",
   "id": "8ffc2bf8",
   "metadata": {},
   "source": [
    "__Conclusion:__ Random Forest classifier comes out on the top with cv= 9\n",
    "\n",
    "- Cross Val score : 81.97649572649573\n",
    "- accuracy score is : 86.89655172413792"
   ]
  },
  {
   "cell_type": "code",
   "execution_count": null,
   "id": "5224015b",
   "metadata": {},
   "outputs": [],
   "source": [
    "# save the model to disk\n",
    "import pickle\n",
    "model_file_path='Loan_Approval_Classification_.pkl'\n",
    "# pickle.dump(rfc, open(model_file_path, 'wb'))"
   ]
  },
  {
   "cell_type": "code",
   "execution_count": null,
   "id": "1ceece6f",
   "metadata": {},
   "outputs": [],
   "source": []
  },
  {
   "cell_type": "code",
   "execution_count": null,
   "id": "86c462e2",
   "metadata": {},
   "outputs": [],
   "source": []
  },
  {
   "cell_type": "code",
   "execution_count": null,
   "id": "72c7d69b",
   "metadata": {},
   "outputs": [],
   "source": []
  },
  {
   "cell_type": "code",
   "execution_count": null,
   "id": "98e01f02",
   "metadata": {},
   "outputs": [],
   "source": []
  },
  {
   "cell_type": "code",
   "execution_count": null,
   "id": "e5a78d71",
   "metadata": {},
   "outputs": [],
   "source": []
  },
  {
   "cell_type": "code",
   "execution_count": null,
   "id": "89bb99ae",
   "metadata": {},
   "outputs": [],
   "source": []
  },
  {
   "cell_type": "code",
   "execution_count": null,
   "id": "6efb88c3",
   "metadata": {},
   "outputs": [],
   "source": []
  },
  {
   "cell_type": "code",
   "execution_count": null,
   "id": "38f07aa5",
   "metadata": {},
   "outputs": [],
   "source": []
  },
  {
   "cell_type": "code",
   "execution_count": null,
   "id": "e3931464",
   "metadata": {},
   "outputs": [],
   "source": []
  },
  {
   "cell_type": "code",
   "execution_count": null,
   "id": "0d96caab",
   "metadata": {},
   "outputs": [],
   "source": []
  },
  {
   "cell_type": "code",
   "execution_count": null,
   "id": "df075669",
   "metadata": {},
   "outputs": [],
   "source": []
  },
  {
   "cell_type": "code",
   "execution_count": null,
   "id": "9f379c2f",
   "metadata": {},
   "outputs": [],
   "source": []
  },
  {
   "cell_type": "code",
   "execution_count": null,
   "id": "955d6f78",
   "metadata": {},
   "outputs": [],
   "source": []
  },
  {
   "cell_type": "code",
   "execution_count": null,
   "id": "2d178cab",
   "metadata": {},
   "outputs": [],
   "source": []
  },
  {
   "cell_type": "code",
   "execution_count": null,
   "id": "3049d788",
   "metadata": {},
   "outputs": [],
   "source": []
  },
  {
   "cell_type": "code",
   "execution_count": null,
   "id": "152c4bda",
   "metadata": {},
   "outputs": [],
   "source": []
  },
  {
   "cell_type": "code",
   "execution_count": null,
   "id": "4fa03c4a",
   "metadata": {},
   "outputs": [],
   "source": []
  },
  {
   "cell_type": "code",
   "execution_count": null,
   "id": "2ae4ee45",
   "metadata": {},
   "outputs": [],
   "source": []
  },
  {
   "cell_type": "code",
   "execution_count": null,
   "id": "73eb2d10",
   "metadata": {},
   "outputs": [],
   "source": []
  },
  {
   "cell_type": "code",
   "execution_count": null,
   "id": "6c990c2a",
   "metadata": {},
   "outputs": [],
   "source": []
  },
  {
   "cell_type": "code",
   "execution_count": null,
   "id": "96519808",
   "metadata": {},
   "outputs": [],
   "source": []
  },
  {
   "cell_type": "code",
   "execution_count": null,
   "id": "6a7cc751",
   "metadata": {},
   "outputs": [],
   "source": []
  },
  {
   "cell_type": "code",
   "execution_count": null,
   "id": "287c6291",
   "metadata": {},
   "outputs": [],
   "source": []
  }
 ],
 "metadata": {
  "kernelspec": {
   "display_name": "Python 3",
   "language": "python",
   "name": "python3"
  },
  "language_info": {
   "codemirror_mode": {
    "name": "ipython",
    "version": 3
   },
   "file_extension": ".py",
   "mimetype": "text/x-python",
   "name": "python",
   "nbconvert_exporter": "python",
   "pygments_lexer": "ipython3",
   "version": "3.8.8"
  }
 },
 "nbformat": 4,
 "nbformat_minor": 5
}
